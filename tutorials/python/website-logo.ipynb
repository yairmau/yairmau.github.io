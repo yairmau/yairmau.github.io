{
 "cells": [
  {
   "cell_type": "markdown",
   "metadata": {},
   "source": [
    "# Logo"
   ]
  },
  {
   "cell_type": "code",
   "execution_count": 1,
   "metadata": {},
   "outputs": [],
   "source": [
    "import matplotlib.pyplot as plt\n",
    "import matplotlib as mpl\n",
    "import os\n",
    "from matplotlib import font_manager\n",
    "mpl.rcParams['text.usetex'] = True\n",
    "mpl.rcParams['font.family'] = 'serif'\n",
    "mpl.rcParams['font.serif'] = ['Times']\n",
    "mpl.rcParams['text.latex.preamble'] = r'\\usepackage{amsmath}'\n",
    "import numpy as np\n",
    "\n",
    "# %matplotlib widget"
   ]
  },
  {
   "cell_type": "markdown",
   "metadata": {},
   "source": [
    "## Equation for an offset parabola"
   ]
  },
  {
   "cell_type": "code",
   "execution_count": 2,
   "metadata": {},
   "outputs": [],
   "source": [
    "x0 = 0.25\n",
    "x = np.linspace(x0, 1, 1001)\n",
    "def parabola(x):\n",
    "    return (x - x0)**2 / (1 - x0)**2\n",
    "y = parabola(x)"
   ]
  },
  {
   "cell_type": "markdown",
   "metadata": {},
   "source": [
    "## The standard logo"
   ]
  },
  {
   "cell_type": "code",
   "execution_count": 3,
   "metadata": {},
   "outputs": [
    {
     "data": {
      "image/png": "[encoded data removed]",
      "text/plain": [
       "<Figure size 500x500 with 1 Axes>"
      ]
     },
     "metadata": {},
     "output_type": "display_data"
    }
   ],
   "source": [
    "fig=plt.figure(figsize=(5, 5))\n",
    "fig.subplots_adjust(left=0.0, right=1.0, top=1.0, bottom=0.0,\n",
    "                    hspace=0, wspace=0)\n",
    "ax = plt.Axes(fig, [0.2, 0.2, 0.6, 0.6])\n",
    "fig.add_axes(ax)\n",
    "\n",
    "for spine in ax.spines.values():\n",
    "    spine.set_visible(False)\n",
    "\n",
    "width = 10\n",
    "solid_capstyle = 'round' # 'butt', 'round', 'projecting'\n",
    "solid_joinstyle = 'round' # 'miter', 'round', 'bevel'\n",
    "\n",
    "frame_path_x = np.array([0, 1, 1, 0, 0])\n",
    "frame_path_y = np.array([0, 0, 1, 1, 0])\n",
    "ax.plot(frame_path_x, frame_path_y, color=\"black\", lw=width, clip_on=False,\n",
    "        solid_capstyle=solid_capstyle, solid_joinstyle=solid_joinstyle)\n",
    "\n",
    "ax.plot(y, x, color=\"black\", lw=width)\n",
    "ax.set(xlim=[0,1],\n",
    "       ylim=[0,1],\n",
    "       xticks=[],\n",
    "       yticks=[],)\n",
    "\n",
    "# fig.savefig(\"logo_white_bg_withborder.png\", dpi=600, transparent=False, bbox_inches=None)\n",
    "# fig.savefig(\"logo_transparent_bg_withborder.png\", dpi=600, transparent=True, bbox_inches=None)\n",
    "# fig.savefig(\"logo_white_bg.png\", dpi=600, transparent=False, bbox_inches=\"tight\")\n",
    "fig.savefig(\"logo_transparent_bg.png\", dpi=600, transparent=True, bbox_inches=\"tight\")\n",
    "# fig.savefig(\"figure.svg\", transparent=True, bbox_inches=\"tight\")"
   ]
  },
  {
   "cell_type": "markdown",
   "metadata": {},
   "source": [
    "## Logo in white"
   ]
  },
  {
   "cell_type": "code",
   "execution_count": 4,
   "metadata": {},
   "outputs": [
    {
     "data": {
      "image/png": "[encoded data removed]",
      "text/plain": [
       "<Figure size 500x500 with 1 Axes>"
      ]
     },
     "metadata": {},
     "output_type": "display_data"
    }
   ],
   "source": [
    "fig=plt.figure(figsize=(5, 5))\n",
    "fig.subplots_adjust(left=0.0, right=1.0, top=1.0, bottom=0.0,\n",
    "                    hspace=0, wspace=0)\n",
    "ax = plt.Axes(fig, [0.2, 0.2, 0.6, 0.6])\n",
    "fig.add_axes(ax)\n",
    "\n",
    "for spine in ax.spines.values():\n",
    "    spine.set_visible(False)\n",
    "\n",
    "width = 10\n",
    "solid_capstyle = 'round' # 'butt', 'round', 'projecting'\n",
    "solid_joinstyle = 'round' # 'miter', 'round', 'bevel'\n",
    "\n",
    "frame_path_x = np.array([0, 1, 1, 0, 0])\n",
    "frame_path_y = np.array([0, 0, 1, 1, 0])\n",
    "ax.plot(frame_path_x, frame_path_y, color=\"white\", lw=width, clip_on=False,\n",
    "        solid_capstyle=solid_capstyle, solid_joinstyle=solid_joinstyle)\n",
    "\n",
    "ax.plot(y, x, color=\"white\", lw=width)\n",
    "ax.set(xlim=[0,1],\n",
    "       ylim=[0,1],\n",
    "       xticks=[],\n",
    "       yticks=[],)\n",
    "\n",
    "fig.savefig(\"logo_inverted.png\", dpi=600, transparent=True, bbox_inches=\"tight\")"
   ]
  },
  {
   "cell_type": "markdown",
   "metadata": {},
   "source": [
    "## Annotated logo"
   ]
  },
  {
   "cell_type": "code",
   "execution_count": 5,
   "metadata": {},
   "outputs": [
    {
     "data": {
      "text/plain": [
       "Text(1.05, 1.05, '$\\\\left(1,1\\\\right)$')"
      ]
     },
     "execution_count": 5,
     "metadata": {},
     "output_type": "execute_result"
    },
    {
     "data": {
      "image/png": "[encoded data removed]",
      "text/plain": [
       "<Figure size 500x500 with 1 Axes>"
      ]
     },
     "metadata": {},
     "output_type": "display_data"
    }
   ],
   "source": [
    "fig=plt.figure(figsize=(5, 5))\n",
    "fig.subplots_adjust(left=0.0, right=1.0, top=1.0, bottom=0.0,\n",
    "                    hspace=0, wspace=0)\n",
    "ax = plt.Axes(fig, [0.2, 0.2, 0.6, 0.6])\n",
    "fig.add_axes(ax)\n",
    "\n",
    "for spine in ax.spines.values():\n",
    "    spine.set_visible(False)\n",
    "\n",
    "ax.plot(frame_path_x, frame_path_y, color=\"black\", lw=width, clip_on=False,\n",
    "        solid_capstyle=solid_capstyle, solid_joinstyle=solid_joinstyle)\n",
    "\n",
    "ax.plot(y, x, color=\"black\", lw=width)\n",
    "ax.set(xlim=[0,1],\n",
    "       ylim=[0,1],\n",
    "       xticks=[],\n",
    "       yticks=[],)\n",
    "ax.set_xlabel(r\"saddle-node bifurcation\",\n",
    "              fontsize=20, color=\"red\", labelpad=10)\n",
    "\n",
    "x2 = np.linspace(0, 0.25, 1001)\n",
    "y2 = parabola(x2)\n",
    "ax.plot(y, x, color=\"black\", lw=10)\n",
    "ax.plot(y, x, color=\"red\", lw=2, clip_on=False)\n",
    "ax.plot(y2, x2, color=\"red\", lw=2, clip_on=False, ls=\"--\")\n",
    "\n",
    "ax.plot(0, 0.25, 'o', markersize=10, clip_on=False, markerfacecolor=\"orange\", markeredgecolor=\"red\")\n",
    "ax.text(0.05, 0.25, r\"$\\left(0, \\tfrac{1}{4}\\right)$\", fontsize=20, color=\"red\", va=\"center\", ha=\"left\")\n",
    "\n",
    "ax.plot(1, 1, 'o', markersize=10, clip_on=False, markerfacecolor=\"orange\", markeredgecolor=\"red\")\n",
    "ax.text(1.05, 1.05, r\"$\\left(1,1\\right)$\", fontsize=20, color=\"red\", va=\"center\", ha=\"left\")\n",
    "\n",
    "# fig.savefig(\"logo_explanation.png\", dpi=600, transparent=False, bbox_inches=None) # bbox_inches=\"tight\""
   ]
  },
  {
   "cell_type": "markdown",
   "metadata": {},
   "source": [
    "## Chunky logo to be converted into favicon"
   ]
  },
  {
   "cell_type": "code",
   "execution_count": 6,
   "metadata": {},
   "outputs": [
    {
     "data": {
      "image/png": "[encoded data removed]",
      "text/plain": [
       "<Figure size 500x500 with 1 Axes>"
      ]
     },
     "metadata": {},
     "output_type": "display_data"
    }
   ],
   "source": [
    "fig=plt.figure(figsize=(5, 5))\n",
    "fig.subplots_adjust(left=0.0, right=1.0, top=1.0, bottom=0.0,\n",
    "                    hspace=0, wspace=0)\n",
    "ax = plt.Axes(fig, [0.2, 0.2, 0.6, 0.6])\n",
    "fig.add_axes(ax)\n",
    "\n",
    "for spine in ax.spines.values():\n",
    "    spine.set_visible(False)\n",
    "\n",
    "width = 20\n",
    "\n",
    "ax.plot(frame_path_x, frame_path_y, color=\"black\", lw=width, clip_on=False,\n",
    "        solid_capstyle=solid_capstyle, solid_joinstyle=solid_joinstyle)\n",
    "\n",
    "ax.plot(y, x, color=\"black\", lw=width)\n",
    "ax.set(xlim=[0,1],\n",
    "       ylim=[0,1],\n",
    "       xticks=[],\n",
    "       yticks=[],)\n",
    "\n",
    "fig.savefig(\"logo_favicon_hires.png\", dpi=600, transparent=True, bbox_inches=\"tight\")\n"
   ]
  },
  {
   "cell_type": "markdown",
   "metadata": {},
   "source": [
    "## Duotone"
   ]
  },
  {
   "cell_type": "code",
   "execution_count": 7,
   "metadata": {},
   "outputs": [
    {
     "data": {
      "text/plain": [
       "[(0.0, 1.0), (0.0, 1.0), [], []]"
      ]
     },
     "execution_count": 7,
     "metadata": {},
     "output_type": "execute_result"
    },
    {
     "data": {
      "image/png": "[encoded data removed]",
      "text/plain": [
       "<Figure size 500x500 with 1 Axes>"
      ]
     },
     "metadata": {},
     "output_type": "display_data"
    }
   ],
   "source": [
    "fig=plt.figure(figsize=(5, 5))\n",
    "fig.subplots_adjust(left=0.0, right=1.0, top=1.0, bottom=0.0,\n",
    "                    hspace=0, wspace=0)\n",
    "ax = plt.Axes(fig, [0.2, 0.2, 0.6, 0.6])\n",
    "fig.add_axes(ax)\n",
    "\n",
    "for spine in ax.spines.values():\n",
    "    spine.set_visible(False)\n",
    "\n",
    "width = 10\n",
    "solid_capstyle = 'round' # 'butt', 'round', 'projecting'\n",
    "solid_joinstyle = 'round' # 'miter', 'round', 'bevel'\n",
    "\n",
    "frame_path_x = np.array([0, 1, 1, 0, 0])\n",
    "frame_path_y = np.array([0, 0, 1, 1, 0])\n",
    "# ax.plot(frame_path_x, frame_path_y, color=\"black\", lw=width, clip_on=False,\n",
    "#         solid_capstyle=solid_capstyle, solid_joinstyle=solid_joinstyle)\n",
    "\n",
    "color_dark = np.array([24,43,72]) / 255\n",
    "color_light = np.array([153,163,177]) / 255\n",
    "# ax.plot(y, x, color=\"black\", lw=width)\n",
    "ax.fill_between(y, x, 0, color=color_dark, edgecolor=\"white\", linewidth=width)\n",
    "ax.fill_between(y, x, 1, color=color_light, edgecolor=\"white\", linewidth=width)\n",
    "\n",
    "ax.set(xlim=[0,1],\n",
    "       ylim=[0,1],\n",
    "       xticks=[],\n",
    "       yticks=[],)"
   ]
  },
  {
   "cell_type": "markdown",
   "metadata": {},
   "source": [
    "## Variation on the theme"
   ]
  },
  {
   "cell_type": "code",
   "execution_count": 8,
   "metadata": {},
   "outputs": [
    {
     "data": {
      "text/plain": [
       "[(0.0, 1.0), (0.0, 1.0), [], []]"
      ]
     },
     "execution_count": 8,
     "metadata": {},
     "output_type": "execute_result"
    },
    {
     "data": {
      "image/png": "[encoded data removed]",
      "text/plain": [
       "<Figure size 500x500 with 1 Axes>"
      ]
     },
     "metadata": {},
     "output_type": "display_data"
    }
   ],
   "source": [
    "fig=plt.figure(figsize=(5, 5))\n",
    "fig.subplots_adjust(left=0.0, right=1.0, top=1.0, bottom=0.0,\n",
    "                    hspace=0, wspace=0)\n",
    "ax = plt.Axes(fig, [0.2, 0.2, 0.6, 0.6])\n",
    "fig.add_axes(ax)\n",
    "\n",
    "for spine in ax.spines.values():\n",
    "    spine.set_visible(False)\n",
    "\n",
    "width = 10\n",
    "solid_capstyle = 'round' # 'butt', 'round', 'projecting'\n",
    "solid_joinstyle = 'round' # 'miter', 'round', 'bevel'\n",
    "\n",
    "ax.plot(frame_path_x, frame_path_y, color=\"black\", lw=width, clip_on=False,\n",
    "        solid_capstyle=solid_capstyle, solid_joinstyle=solid_joinstyle)\n",
    "\n",
    "ax.plot(1-y, x-x0, color=\"black\", lw=width)\n",
    "ax.set(xlim=[0,1],\n",
    "       ylim=[0,1],\n",
    "       xticks=[],\n",
    "       yticks=[],)"
   ]
  },
  {
   "cell_type": "markdown",
   "metadata": {},
   "source": [
    "## logo with URL"
   ]
  },
  {
   "cell_type": "code",
   "execution_count": 9,
   "metadata": {},
   "outputs": [
    {
     "data": {
      "image/png": "[encoded data removed]",
      "text/plain": [
       "<Figure size 500x500 with 1 Axes>"
      ]
     },
     "metadata": {},
     "output_type": "display_data"
    }
   ],
   "source": [
    "fig=plt.figure(figsize=(5, 5))\n",
    "fig.subplots_adjust(left=0.0, right=1.0, top=1.0, bottom=0.0,\n",
    "                    hspace=0, wspace=0)\n",
    "ax = plt.Axes(fig, [0.2, 0.2, 0.6, 0.6])\n",
    "fig.add_axes(ax)\n",
    "\n",
    "for spine in ax.spines.values():\n",
    "    spine.set_visible(False)\n",
    "\n",
    "width = 10\n",
    "solid_capstyle = 'round' # 'butt', 'round', 'projecting'\n",
    "solid_joinstyle = 'round' # 'miter', 'round', 'bevel'\n",
    "\n",
    "frame_path_x = np.array([0, 1, 1, 0, 0])\n",
    "frame_path_y = np.array([0, 0, 1, 1, 0])\n",
    "ax.plot(frame_path_x, frame_path_y, color=\"black\", lw=width, clip_on=False,\n",
    "        solid_capstyle=solid_capstyle, solid_joinstyle=solid_joinstyle)\n",
    "\n",
    "ax.plot(y, x, color=\"black\", lw=width)\n",
    "ax.set(xlim=[0,1],\n",
    "       ylim=[0,1],\n",
    "       xticks=[],\n",
    "       yticks=[],)\n",
    "\n",
    "# Reset font-related rcParams to defaults\n",
    "mpl.rcParams.update(mpl.rcParamsDefault)\n",
    "\n",
    "font_path = os.path.expanduser(\"~/Library/Fonts/Ubuntu-Bold.ttf\")\n",
    "ubuntu_font = font_manager.FontProperties(fname=font_path)\n",
    "\n",
    "ax.text(0.5, 0.1, 'yairmau.com', transform=ax.transAxes, ha='center', fontsize=32, fontproperties=ubuntu_font)\n",
    "\n",
    "fig.savefig(\"logo_transparent_bg_URL.png\", dpi=600, transparent=True, bbox_inches=\"tight\")\n"
   ]
  },
  {
   "cell_type": "code",
   "execution_count": null,
   "metadata": {},
   "outputs": [],
   "source": []
  }
 ],
 "metadata": {
  "kernelspec": {
   "display_name": "olympus",
   "language": "python",
   "name": "python3"
  },
  "language_info": {
   "codemirror_mode": {
    "name": "ipython",
    "version": 3
   },
   "file_extension": ".py",
   "mimetype": "text/x-python",
   "name": "python",
   "nbconvert_exporter": "python",
   "pygments_lexer": "ipython3",
   "version": "3.11.10"
  }
 },
 "nbformat": 4,
 "nbformat_minor": 2
}
