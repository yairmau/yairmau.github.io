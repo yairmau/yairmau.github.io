{
 "cells": [
  {
   "cell_type": "code",
   "execution_count": 1,
   "metadata": {},
   "outputs": [],
   "source": [
    "# write a widget in Python for Jupter notebook, where the user can change the parameters of a parabola using sliders, and the graph of the parabola responds in real time.\n",
    "# the code below was written by ChatGPT, with minor changes made by Yair\n",
    "\n",
    "import numpy as np\n",
    "import matplotlib.pyplot as plt\n",
    "from ipywidgets import interact, interactive, fixed, interact_manual\n",
    "import ipywidgets as widgets\n",
    "from ipywidgets.embed import embed_minimal_html"
   ]
  },
  {
   "cell_type": "code",
   "execution_count": 2,
   "metadata": {},
   "outputs": [],
   "source": [
    "def f(a,b,c):\n",
    "    x = np.linspace(-10,10,100)\n",
    "    y = a*x**2 + b*x + c\n",
    "    plt.plot(x,y)\n",
    "    plt.xlim([-10, 10])\n",
    "    plt.ylim([-10, 10])\n",
    "    plt.show()"
   ]
  },
  {
   "cell_type": "code",
   "execution_count": 5,
   "metadata": {},
   "outputs": [
    {
     "data": {
      "application/vnd.jupyter.widget-view+json": {
       "model_id": "249f51878a684170a350b7a46b2d8b7f",
       "version_major": 2,
       "version_minor": 0
      },
      "text/plain": [
       "interactive(children=(FloatSlider(value=0.0, description='a', max=10.0, min=-10.0), FloatSlider(value=0.0, des…"
      ]
     },
     "metadata": {},
     "output_type": "display_data"
    },
    {
     "ename": "AttributeError",
     "evalue": "'function' object has no attribute 'get_view_spec'",
     "output_type": "error",
     "traceback": [
      "\u001b[0;31m---------------------------------------------------------------------------\u001b[0m",
      "\u001b[0;31mAttributeError\u001b[0m                            Traceback (most recent call last)",
      "Cell \u001b[0;32mIn[5], line 2\u001b[0m\n\u001b[1;32m      1\u001b[0m mywidget \u001b[39m=\u001b[39m interact(f, a\u001b[39m=\u001b[39m(\u001b[39m-\u001b[39m\u001b[39m10\u001b[39m,\u001b[39m10\u001b[39m,\u001b[39m0.1\u001b[39m), b\u001b[39m=\u001b[39m(\u001b[39m-\u001b[39m\u001b[39m10\u001b[39m,\u001b[39m10\u001b[39m,\u001b[39m0.1\u001b[39m), c\u001b[39m=\u001b[39m(\u001b[39m-\u001b[39m\u001b[39m10\u001b[39m,\u001b[39m10\u001b[39m,\u001b[39m0.1\u001b[39m))\n\u001b[0;32m----> 2\u001b[0m embed_minimal_html(\u001b[39m'\u001b[39;49m\u001b[39mpar.html\u001b[39;49m\u001b[39m'\u001b[39;49m, views\u001b[39m=\u001b[39;49m[mywidget], title\u001b[39m=\u001b[39;49m\u001b[39m'\u001b[39;49m\u001b[39mWidgets export - parabola\u001b[39;49m\u001b[39m'\u001b[39;49m)\n",
      "File \u001b[0;32m/opt/anaconda3/lib/python3.9/site-packages/ipywidgets/embed.py:302\u001b[0m, in \u001b[0;36membed_minimal_html\u001b[0;34m(fp, views, title, template, **kwargs)\u001b[0m\n\u001b[1;32m    286\u001b[0m \u001b[39m@doc_subst\u001b[39m(_doc_snippets)\n\u001b[1;32m    287\u001b[0m \u001b[39mdef\u001b[39;00m \u001b[39membed_minimal_html\u001b[39m(fp, views, title\u001b[39m=\u001b[39m\u001b[39m'\u001b[39m\u001b[39mIPyWidget export\u001b[39m\u001b[39m'\u001b[39m, template\u001b[39m=\u001b[39m\u001b[39mNone\u001b[39;00m, \u001b[39m*\u001b[39m\u001b[39m*\u001b[39mkwargs):\n\u001b[1;32m    288\u001b[0m \u001b[39m    \u001b[39m\u001b[39m\"\"\"Write a minimal HTML file with widget views embedded.\u001b[39;00m\n\u001b[1;32m    289\u001b[0m \n\u001b[1;32m    290\u001b[0m \u001b[39m    Parameters\u001b[39;00m\n\u001b[0;32m   (...)\u001b[0m\n\u001b[1;32m    300\u001b[0m \u001b[39m    {embed_kwargs}\u001b[39;00m\n\u001b[1;32m    301\u001b[0m \u001b[39m    \"\"\"\u001b[39;00m\n\u001b[0;32m--> 302\u001b[0m     snippet \u001b[39m=\u001b[39m embed_snippet(views, \u001b[39m*\u001b[39;49m\u001b[39m*\u001b[39;49mkwargs)\n\u001b[1;32m    304\u001b[0m     values \u001b[39m=\u001b[39m {\n\u001b[1;32m    305\u001b[0m         \u001b[39m'\u001b[39m\u001b[39mtitle\u001b[39m\u001b[39m'\u001b[39m: title,\n\u001b[1;32m    306\u001b[0m         \u001b[39m'\u001b[39m\u001b[39msnippet\u001b[39m\u001b[39m'\u001b[39m: snippet,\n\u001b[1;32m    307\u001b[0m     }\n\u001b[1;32m    308\u001b[0m     \u001b[39mif\u001b[39;00m template \u001b[39mis\u001b[39;00m \u001b[39mNone\u001b[39;00m:\n",
      "File \u001b[0;32m/opt/anaconda3/lib/python3.9/site-packages/ipywidgets/embed.py:264\u001b[0m, in \u001b[0;36membed_snippet\u001b[0;34m(views, drop_defaults, state, indent, embed_url, requirejs, cors)\u001b[0m\n\u001b[1;32m    243\u001b[0m \u001b[39m@doc_subst\u001b[39m(_doc_snippets)\n\u001b[1;32m    244\u001b[0m \u001b[39mdef\u001b[39;00m \u001b[39membed_snippet\u001b[39m(views,\n\u001b[1;32m    245\u001b[0m                   drop_defaults\u001b[39m=\u001b[39m\u001b[39mTrue\u001b[39;00m,\n\u001b[0;32m   (...)\u001b[0m\n\u001b[1;32m    250\u001b[0m                   cors\u001b[39m=\u001b[39m\u001b[39mTrue\u001b[39;00m\n\u001b[1;32m    251\u001b[0m                  ):\n\u001b[1;32m    252\u001b[0m \u001b[39m    \u001b[39m\u001b[39m\"\"\"Return a snippet that can be embedded in an HTML file.\u001b[39;00m\n\u001b[1;32m    253\u001b[0m \n\u001b[1;32m    254\u001b[0m \u001b[39m    Parameters\u001b[39;00m\n\u001b[0;32m   (...)\u001b[0m\n\u001b[1;32m    261\u001b[0m \u001b[39m    A unicode string with an HTML snippet containing several `<script>` tags.\u001b[39;00m\n\u001b[1;32m    262\u001b[0m \u001b[39m    \"\"\"\u001b[39;00m\n\u001b[0;32m--> 264\u001b[0m     data \u001b[39m=\u001b[39m embed_data(views, drop_defaults\u001b[39m=\u001b[39;49mdrop_defaults, state\u001b[39m=\u001b[39;49mstate)\n\u001b[1;32m    266\u001b[0m     widget_views \u001b[39m=\u001b[39m \u001b[39m'\u001b[39m\u001b[39m\\n\u001b[39;00m\u001b[39m'\u001b[39m\u001b[39m.\u001b[39mjoin(\n\u001b[1;32m    267\u001b[0m         widget_view_template\u001b[39m.\u001b[39mformat(view_spec\u001b[39m=\u001b[39mescape_script(json\u001b[39m.\u001b[39mdumps(view_spec)))\n\u001b[1;32m    268\u001b[0m         \u001b[39mfor\u001b[39;00m view_spec \u001b[39min\u001b[39;00m data[\u001b[39m'\u001b[39m\u001b[39mview_specs\u001b[39m\u001b[39m'\u001b[39m]\n\u001b[1;32m    269\u001b[0m     )\n\u001b[1;32m    271\u001b[0m     \u001b[39mif\u001b[39;00m embed_url \u001b[39mis\u001b[39;00m \u001b[39mNone\u001b[39;00m:\n",
      "File \u001b[0;32m/opt/anaconda3/lib/python3.9/site-packages/ipywidgets/embed.py:226\u001b[0m, in \u001b[0;36membed_data\u001b[0;34m(views, drop_defaults, state)\u001b[0m\n\u001b[1;32m    223\u001b[0m \u001b[39m# but plug in our own state\u001b[39;00m\n\u001b[1;32m    224\u001b[0m json_data[\u001b[39m'\u001b[39m\u001b[39mstate\u001b[39m\u001b[39m'\u001b[39m] \u001b[39m=\u001b[39m state\n\u001b[0;32m--> 226\u001b[0m view_specs \u001b[39m=\u001b[39m [w\u001b[39m.\u001b[39mget_view_spec() \u001b[39mfor\u001b[39;00m w \u001b[39min\u001b[39;00m views]\n\u001b[1;32m    228\u001b[0m \u001b[39mreturn\u001b[39;00m \u001b[39mdict\u001b[39m(manager_state\u001b[39m=\u001b[39mjson_data, view_specs\u001b[39m=\u001b[39mview_specs)\n",
      "File \u001b[0;32m/opt/anaconda3/lib/python3.9/site-packages/ipywidgets/embed.py:226\u001b[0m, in \u001b[0;36m<listcomp>\u001b[0;34m(.0)\u001b[0m\n\u001b[1;32m    223\u001b[0m \u001b[39m# but plug in our own state\u001b[39;00m\n\u001b[1;32m    224\u001b[0m json_data[\u001b[39m'\u001b[39m\u001b[39mstate\u001b[39m\u001b[39m'\u001b[39m] \u001b[39m=\u001b[39m state\n\u001b[0;32m--> 226\u001b[0m view_specs \u001b[39m=\u001b[39m [w\u001b[39m.\u001b[39;49mget_view_spec() \u001b[39mfor\u001b[39;00m w \u001b[39min\u001b[39;00m views]\n\u001b[1;32m    228\u001b[0m \u001b[39mreturn\u001b[39;00m \u001b[39mdict\u001b[39m(manager_state\u001b[39m=\u001b[39mjson_data, view_specs\u001b[39m=\u001b[39mview_specs)\n",
      "\u001b[0;31mAttributeError\u001b[0m: 'function' object has no attribute 'get_view_spec'"
     ]
    }
   ],
   "source": [
    "mywidget = interact(f, a=(-10,10,0.1), b=(-10,10,0.1), c=(-10,10,0.1))\n",
    "embed_minimal_html('par.html', views=[mywidget], title='Widgets export - parabola')"
   ]
  },
  {
   "cell_type": "code",
   "execution_count": 4,
   "metadata": {},
   "outputs": [],
   "source": [
    "from ipywidgets import IntSlider\n",
    "\n",
    "slider = IntSlider(value=40)\n",
    "embed_minimal_html('export.html', views=[slider], title='Widgets export')"
   ]
  },
  {
   "cell_type": "code",
   "execution_count": null,
   "metadata": {},
   "outputs": [],
   "source": []
  }
 ],
 "metadata": {
  "kernelspec": {
   "display_name": "Python 3.7.4 ('base')",
   "language": "python",
   "name": "python3"
  },
  "language_info": {
   "codemirror_mode": {
    "name": "ipython",
    "version": 3
   },
   "file_extension": ".py",
   "mimetype": "text/x-python",
   "name": "python",
   "nbconvert_exporter": "python",
   "pygments_lexer": "ipython3",
   "version": "3.9.16"
  },
  "orig_nbformat": 4,
  "vscode": {
   "interpreter": {
    "hash": "c1802537857defe7992544f25bae53dd19303308d5f945e12e7b8de650127286"
   }
  }
 },
 "nbformat": 4,
 "nbformat_minor": 2
}
